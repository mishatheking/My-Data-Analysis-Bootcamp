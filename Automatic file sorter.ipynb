{
 "cells": [
  {
   "cell_type": "markdown",
   "id": "7dc1096e-8f61-41cd-a0b9-c79ed4790efc",
   "metadata": {},
   "source": [
    "# Automatic File Sorter in File Explorer"
   ]
  },
  {
   "cell_type": "code",
   "execution_count": 16,
   "id": "8f4dc198-3097-4b34-8b59-e60964628833",
   "metadata": {},
   "outputs": [],
   "source": [
    "import os, shutil"
   ]
  },
  {
   "cell_type": "code",
   "execution_count": 17,
   "id": "b69ee1c9-8d5c-4ab2-85fd-29f45253128d",
   "metadata": {},
   "outputs": [],
   "source": [
    "path = r\"C:/Users/Misha/Documents/5. Python/Python Tutorial/\""
   ]
  },
  {
   "cell_type": "code",
   "execution_count": 20,
   "id": "20f01f02-03de-4b60-baad-f27b03a4f2f6",
   "metadata": {},
   "outputs": [
    {
     "data": {
      "text/plain": [
       "['atm from ad.docx',\n",
       " 'Book1.pdf',\n",
       " 'cmd colour.jpg',\n",
       " 'cmd2.jpg',\n",
       " 'complaint management system.zip',\n",
       " 'conversion.docx',\n",
       " 'FINANCE FULL LIST.xlsx',\n",
       " 'Presentation2.pptx']"
      ]
     },
     "execution_count": 20,
     "metadata": {},
     "output_type": "execute_result"
    }
   ],
   "source": [
    "os.listdir(path)"
   ]
  },
  {
   "cell_type": "code",
   "execution_count": 22,
   "id": "361d68a3-a3c5-498f-8130-7337d23e8709",
   "metadata": {},
   "outputs": [
    {
     "name": "stdout",
     "output_type": "stream",
     "text": [
      "C:/Users/Misha/Documents/5. Python/Python Tutorial/doc files\n",
      "C:/Users/Misha/Documents/5. Python/Python Tutorial/PDF files\n",
      "C:/Users/Misha/Documents/5. Python/Python Tutorial/image files\n",
      "C:/Users/Misha/Documents/5. Python/Python Tutorial/zip files\n",
      "C:/Users/Misha/Documents/5. Python/Python Tutorial/excel files\n",
      "C:/Users/Misha/Documents/5. Python/Python Tutorial/PPTX files\n"
     ]
    }
   ],
   "source": [
    "folder_names = [\"doc files\", \"PDF files\", \"image files\", \"zip files\", \"excel files\", \"PPTX files\"]\n",
    "\n",
    "for loop in range (0, len(folder_names)):\n",
    "    if not os.path.exists(path + folder_names[loop]):\n",
    "        print(path + folder_names[loop])\n",
    "        os.mkdir(path + folder_names[loop])\n",
    "    "
   ]
  },
  {
   "cell_type": "code",
   "execution_count": null,
   "id": "e2b9d351-3e81-470e-b77c-cecd285ef918",
   "metadata": {},
   "outputs": [],
   "source": [
    "file_name = os.listdir(path)\n",
    "file_name"
   ]
  },
  {
   "cell_type": "code",
   "execution_count": 24,
   "id": "c4aa6d1b-8b71-4991-9faf-fc8f6d88a222",
   "metadata": {},
   "outputs": [],
   "source": [
    "for file in file_name:\n",
    "    if \".docx\" in file and not os.path.exists(path + \"doc files/\" + file):\n",
    "        shutil.move(path + file, path + \"doc files/\" + file)\n",
    "    if \".pdf\" in file and not os.path.exists(path + \"PDF files/\" + file):\n",
    "        shutil.move(path + file, path + \"PDF files/\" + file)\n",
    "    if \".jpg\" in file and not os.path.exists(path + \"image files/\" + file):\n",
    "        shutil.move(path + file, path + \"image files/\" + file)\n",
    "    if \".zip\" in file and not os.path.exists(path + \"zip files/\" + file):\n",
    "        shutil.move(path + file, path + \"zip files/\" + file)\n",
    "    if \".xlsx\" in file and not os.path.exists(path + \"excel files/\" + file):\n",
    "        shutil.move(path + file, path + \"excel files/\" + file)\n",
    "    if \".pptx\" in file and not os.path.exists(path + \"PPTX files/\" + file):\n",
    "        shutil.move(path + file, path + \"PPTX files/\" + file)"
   ]
  }
 ],
 "metadata": {
  "kernelspec": {
   "display_name": "Python 3 (ipykernel)",
   "language": "python",
   "name": "python3"
  },
  "language_info": {
   "codemirror_mode": {
    "name": "ipython",
    "version": 3
   },
   "file_extension": ".py",
   "mimetype": "text/x-python",
   "name": "python",
   "nbconvert_exporter": "python",
   "pygments_lexer": "ipython3",
   "version": "3.12.7"
  }
 },
 "nbformat": 4,
 "nbformat_minor": 5
}
