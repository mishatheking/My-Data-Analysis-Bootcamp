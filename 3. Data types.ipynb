{
 "cells": [
  {
   "cell_type": "markdown",
   "id": "aaf92ed7-bb32-4346-9f72-df1b4c3ba0e8",
   "metadata": {},
   "source": [
    "# Data Types"
   ]
  },
  {
   "cell_type": "code",
   "execution_count": 3,
   "id": "0fd39401-5339-4704-8a5d-af034dbfd61d",
   "metadata": {},
   "outputs": [
    {
     "data": {
      "text/plain": [
       "int"
      ]
     },
     "execution_count": 3,
     "metadata": {},
     "output_type": "execute_result"
    }
   ],
   "source": [
    "type(1 + 2)"
   ]
  },
  {
   "cell_type": "code",
   "execution_count": 5,
   "id": "de247184-c885-491b-a693-22d58c875eb0",
   "metadata": {},
   "outputs": [
    {
     "data": {
      "text/plain": [
       "complex"
      ]
     },
     "execution_count": 5,
     "metadata": {},
     "output_type": "execute_result"
    }
   ],
   "source": [
    "type( 1 + 3j) "
   ]
  },
  {
   "cell_type": "code",
   "execution_count": 7,
   "id": "969e6072-6abf-4e8d-96e2-b95204f177e5",
   "metadata": {},
   "outputs": [
    {
     "data": {
      "text/plain": [
       "float"
      ]
     },
     "execution_count": 7,
     "metadata": {},
     "output_type": "execute_result"
    }
   ],
   "source": [
    "type(4/1)"
   ]
  },
  {
   "cell_type": "code",
   "execution_count": 11,
   "id": "07e058e7-d8fc-4cba-ac36-69e64738ac90",
   "metadata": {},
   "outputs": [
    {
     "data": {
      "text/plain": [
       "bool"
      ]
     },
     "execution_count": 11,
     "metadata": {},
     "output_type": "execute_result"
    }
   ],
   "source": [
    "type(True)"
   ]
  },
  {
   "cell_type": "code",
   "execution_count": 15,
   "id": "82f66192-a99d-43d5-9aff-ded0c7c2a6e9",
   "metadata": {},
   "outputs": [
    {
     "data": {
      "text/plain": [
       "bool"
      ]
     },
     "execution_count": 15,
     "metadata": {},
     "output_type": "execute_result"
    }
   ],
   "source": [
    "type(1==1)"
   ]
  },
  {
   "cell_type": "code",
   "execution_count": 17,
   "id": "73678134-094b-4a2e-b7a0-5ec7ae11d6e5",
   "metadata": {},
   "outputs": [
    {
     "data": {
      "text/plain": [
       "str"
      ]
     },
     "execution_count": 17,
     "metadata": {},
     "output_type": "execute_result"
    }
   ],
   "source": [
    "type(\"@\")"
   ]
  },
  {
   "cell_type": "code",
   "execution_count": 27,
   "id": "2a2fa67c-d51a-443c-bd62-00e33f267f70",
   "metadata": {},
   "outputs": [],
   "source": [
    "a = \"Hello World\""
   ]
  },
  {
   "cell_type": "code",
   "execution_count": 35,
   "id": "a8b5fabd-ae29-4dc3-b7fa-638eb9e01ae8",
   "metadata": {},
   "outputs": [
    {
     "name": "stdout",
     "output_type": "stream",
     "text": [
      "o World\n"
     ]
    }
   ],
   "source": [
    "print(a[4:])"
   ]
  },
  {
   "cell_type": "code",
   "execution_count": 37,
   "id": "9e9a691a-738e-4ca4-a6eb-8f2213155c9d",
   "metadata": {},
   "outputs": [
    {
     "name": "stdout",
     "output_type": "stream",
     "text": [
      "Hello WorldHello WorldHello World\n"
     ]
    }
   ],
   "source": [
    "print(a*3) "
   ]
  },
  {
   "cell_type": "markdown",
   "id": "373054ae-b3e8-4368-8985-afd0ac99d2cf",
   "metadata": {},
   "source": [
    "# Tuple"
   ]
  },
  {
   "cell_type": "code",
   "execution_count": 46,
   "id": "31ad44f4-9f63-44c5-aa15-8f7cc7b7140f",
   "metadata": {},
   "outputs": [],
   "source": [
    "days = (1,2,3,4,5)"
   ]
  },
  {
   "cell_type": "code",
   "execution_count": 48,
   "id": "6a1fabc8-98d0-42bf-a9ac-8c41bbf679bc",
   "metadata": {},
   "outputs": [
    {
     "data": {
      "text/plain": [
       "tuple"
      ]
     },
     "execution_count": 48,
     "metadata": {},
     "output_type": "execute_result"
    }
   ],
   "source": [
    "type(days)"
   ]
  },
  {
   "cell_type": "code",
   "execution_count": 58,
   "id": "627b5608-0ffe-4d6e-bf14-0f9a3714aee5",
   "metadata": {},
   "outputs": [
    {
     "data": {
      "text/plain": [
       "set"
      ]
     },
     "execution_count": 58,
     "metadata": {},
     "output_type": "execute_result"
    }
   ],
   "source": [
    "day_points={1,2,3,4,5}\n",
    "\n",
    "type(day_points)"
   ]
  },
  {
   "cell_type": "code",
   "execution_count": 60,
   "id": "f0fde193-1de1-40ec-9fc1-9733e05e6c86",
   "metadata": {},
   "outputs": [
    {
     "name": "stdout",
     "output_type": "stream",
     "text": [
      "{1, 2, 3, 4, 5}\n"
     ]
    }
   ],
   "source": [
    "print(day_points)"
   ]
  },
  {
   "cell_type": "code",
   "execution_count": 78,
   "id": "e026d305-caa3-4d99-8684-82be529a885d",
   "metadata": {},
   "outputs": [
    {
     "name": "stdout",
     "output_type": "stream",
     "text": [
      "{1, 2, 3, 4, 5, 6, 66, 7, 43, 53, 91}\n"
     ]
    }
   ],
   "source": [
    "day1_points_log = {1,2,3,4,2,3,6,4,5,91,43,53,66,6,7,3,7}\n",
    "\n",
    "print(day1_points_log)"
   ]
  },
  {
   "cell_type": "code",
   "execution_count": 80,
   "id": "c0fbd121-0e66-4add-b6bc-8e34afd47e5e",
   "metadata": {},
   "outputs": [
    {
     "name": "stdout",
     "output_type": "stream",
     "text": [
      "{0, 1, 2, 3, 4, 5, 6, 7, 8, 9, 71, 43, 51}\n"
     ]
    }
   ],
   "source": [
    "day2_points_log = {1,2,3,4,2,3,6,4,5,6,7,9,8,43,51,0,71,3,7}\n",
    "\n",
    "print(day2_points_log)"
   ]
  },
  {
   "cell_type": "code",
   "execution_count": 82,
   "id": "af4fc1e9-0157-4e94-aaac-40001d5e7f7d",
   "metadata": {},
   "outputs": [
    {
     "name": "stdout",
     "output_type": "stream",
     "text": [
      "{0, 1, 2, 3, 4, 5, 6, 66, 7, 8, 9, 71, 91, 43, 51, 53}\n"
     ]
    }
   ],
   "source": [
    "print(day1_points_log | day2_points_log)"
   ]
  },
  {
   "cell_type": "code",
   "execution_count": 84,
   "id": "0e1e679a-e4c9-44ee-8d1e-0e951559c9fe",
   "metadata": {},
   "outputs": [
    {
     "name": "stdout",
     "output_type": "stream",
     "text": [
      "{1, 2, 3, 4, 5, 6, 7, 43}\n"
     ]
    }
   ],
   "source": [
    "print(day1_points_log & day2_points_log)"
   ]
  },
  {
   "cell_type": "code",
   "execution_count": 90,
   "id": "0e1f5b8e-dd6d-4796-820e-d3db9263a57c",
   "metadata": {},
   "outputs": [
    {
     "name": "stdout",
     "output_type": "stream",
     "text": [
      "{66, 91, 53}\n"
     ]
    }
   ],
   "source": [
    "print(day1_points_log - day2_points_log)"
   ]
  },
  {
   "cell_type": "code",
   "execution_count": 92,
   "id": "871249a0-3842-45c3-a53b-be5e5722fc92",
   "metadata": {},
   "outputs": [
    {
     "name": "stdout",
     "output_type": "stream",
     "text": [
      "{0, 71, 8, 9, 51}\n"
     ]
    }
   ],
   "source": [
    "print(day2_points_log - day1_points_log)"
   ]
  },
  {
   "cell_type": "code",
   "execution_count": 94,
   "id": "ad7bc599-df6c-4292-8d7e-8bd72d5caaf8",
   "metadata": {},
   "outputs": [
    {
     "name": "stdout",
     "output_type": "stream",
     "text": [
      "{0, 66, 8, 9, 71, 51, 53, 91}\n"
     ]
    }
   ],
   "source": [
    "print(day1_points_log ^ day2_points_log)"
   ]
  },
  {
   "cell_type": "code",
   "execution_count": null,
   "id": "b85a7474-5910-43d5-8f07-ccc0e8f1cd56",
   "metadata": {},
   "outputs": [],
   "source": []
  },
  {
   "cell_type": "code",
   "execution_count": null,
   "id": "9485f7ef-577f-4351-98fd-997f5ebc130e",
   "metadata": {},
   "outputs": [],
   "source": []
  },
  {
   "cell_type": "markdown",
   "id": "e5d17ed8-17c1-438e-8411-93020fae22c8",
   "metadata": {},
   "source": [
    "# Dictionary"
   ]
  },
  {
   "cell_type": "code",
   "execution_count": 105,
   "id": "24eeeb1c-ac46-4140-b099-ebc62b7aa21e",
   "metadata": {},
   "outputs": [
    {
     "data": {
      "text/plain": [
       "dict"
      ]
     },
     "execution_count": 105,
     "metadata": {},
     "output_type": "execute_result"
    }
   ],
   "source": [
    "dict_cream ={ \"name\": \"Misha\", \"weekly intake\": 5, \"favorite ice creams\": [\"Vanilla\",\"Chocolate\"]}\n",
    "\n",
    "type(dict_cream)"
   ]
  },
  {
   "cell_type": "code",
   "execution_count": 107,
   "id": "91509abe-5645-4075-a5c8-a5f51969ea48",
   "metadata": {},
   "outputs": [
    {
     "name": "stdout",
     "output_type": "stream",
     "text": [
      "{'name': 'Misha', 'weekly intake': 5, 'favorite ice creams': ['Vanilla', 'Chocolate']}\n"
     ]
    }
   ],
   "source": [
    "print(dict_cream)\n"
   ]
  },
  {
   "cell_type": "code",
   "execution_count": 111,
   "id": "1f595103-01c9-4584-8bfd-8fcdcd6d9071",
   "metadata": {},
   "outputs": [
    {
     "data": {
      "text/plain": [
       "dict_values(['Misha', 5, ['Vanilla', 'Chocolate']])"
      ]
     },
     "execution_count": 111,
     "metadata": {},
     "output_type": "execute_result"
    }
   ],
   "source": [
    "dict_cream.values()"
   ]
  },
  {
   "cell_type": "code",
   "execution_count": 113,
   "id": "6710bc5c-f922-4f33-9774-fee0d022f812",
   "metadata": {},
   "outputs": [
    {
     "data": {
      "text/plain": [
       "dict_keys(['name', 'weekly intake', 'favorite ice creams'])"
      ]
     },
     "execution_count": 113,
     "metadata": {},
     "output_type": "execute_result"
    }
   ],
   "source": [
    "dict_cream.keys()"
   ]
  },
  {
   "cell_type": "code",
   "execution_count": 115,
   "id": "4ef1de6a-4292-4d15-a57b-d8b4ced136cc",
   "metadata": {},
   "outputs": [
    {
     "data": {
      "text/plain": [
       "dict_items([('name', 'Misha'), ('weekly intake', 5), ('favorite ice creams', ['Vanilla', 'Chocolate'])])"
      ]
     },
     "execution_count": 115,
     "metadata": {},
     "output_type": "execute_result"
    }
   ],
   "source": [
    "dict_cream.items()"
   ]
  },
  {
   "cell_type": "code",
   "execution_count": 117,
   "id": "e1f9214c-5727-4916-b950-171fc332ee2f",
   "metadata": {},
   "outputs": [
    {
     "data": {
      "text/plain": [
       "'Misha'"
      ]
     },
     "execution_count": 117,
     "metadata": {},
     "output_type": "execute_result"
    }
   ],
   "source": [
    "dict_cream[\"name\"]"
   ]
  },
  {
   "cell_type": "code",
   "execution_count": 123,
   "id": "a47364fa-32fb-4098-8f85-01cc05ea1c21",
   "metadata": {},
   "outputs": [
    {
     "name": "stdout",
     "output_type": "stream",
     "text": [
      "{'name': 'Misha the king', 'weekly intake': 5, 'favorite ice creams': ['Vanilla', 'Chocolate']}\n"
     ]
    }
   ],
   "source": [
    "dict_cream[\"name\"]=\"Misha the king\"\n",
    "\n",
    "print(dict_cream)"
   ]
  },
  {
   "cell_type": "code",
   "execution_count": 131,
   "id": "a4b60fef-6b91-4ac8-b77c-8586528c3133",
   "metadata": {},
   "outputs": [
    {
     "name": "stdout",
     "output_type": "stream",
     "text": [
      "{'name': 'Misha the king', 'weekly intake': 7, 'favorite ice creams': ['Vanilla', 'Chocolate', 'Strawberry'], 'favourite ice creams': ['Vanilla', 'Chocolate', 'Strawberry']}\n"
     ]
    }
   ],
   "source": [
    "dict_cream.update({ \"name\": \"Misha the king\", \"weekly intake\": 7, \"favourite ice creams\": [\"Vanilla\", \"Chocolate\", \"Strawberry\"]})\n",
    "\n",
    "print(dict_cream)"
   ]
  },
  {
   "cell_type": "code",
   "execution_count": 137,
   "id": "c3919753-97bd-455b-824d-dd638da171d2",
   "metadata": {},
   "outputs": [],
   "source": [
    "del dict_cream['favourite ice creams'][2]"
   ]
  },
  {
   "cell_type": "code",
   "execution_count": 139,
   "id": "3b20790e-7d62-44a6-8498-545e35534755",
   "metadata": {},
   "outputs": [
    {
     "name": "stdout",
     "output_type": "stream",
     "text": [
      "{'name': 'Misha the king', 'weekly intake': 7, 'favorite ice creams': ['Vanilla', 'Chocolate', 'Strawberry'], 'favourite ice creams': ['Vanilla', 'Chocolate']}\n"
     ]
    }
   ],
   "source": [
    "print(dict_cream)\n"
   ]
  },
  {
   "cell_type": "code",
   "execution_count": null,
   "id": "5c491597-453c-41a5-8cb7-73af1c26a9bb",
   "metadata": {},
   "outputs": [],
   "source": []
  }
 ],
 "metadata": {
  "kernelspec": {
   "display_name": "Python 3 (ipykernel)",
   "language": "python",
   "name": "python3"
  },
  "language_info": {
   "codemirror_mode": {
    "name": "ipython",
    "version": 3
   },
   "file_extension": ".py",
   "mimetype": "text/x-python",
   "name": "python",
   "nbconvert_exporter": "python",
   "pygments_lexer": "ipython3",
   "version": "3.12.7"
  }
 },
 "nbformat": 4,
 "nbformat_minor": 5
}
