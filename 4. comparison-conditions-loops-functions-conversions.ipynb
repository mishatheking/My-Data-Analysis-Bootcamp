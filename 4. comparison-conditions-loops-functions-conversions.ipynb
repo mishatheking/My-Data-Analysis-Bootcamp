{
 "cells": [
  {
   "cell_type": "markdown",
   "id": "cdf4b32e-aa35-4b30-8906-69a171633f12",
   "metadata": {},
   "source": [
    "# Comparisons"
   ]
  },
  {
   "cell_type": "code",
   "execution_count": 5,
   "id": "f3859710-30e6-4cdf-ae6d-4999610cb124",
   "metadata": {},
   "outputs": [
    {
     "data": {
      "text/plain": [
       "True"
      ]
     },
     "execution_count": 5,
     "metadata": {},
     "output_type": "execute_result"
    }
   ],
   "source": [
    "10 ==10"
   ]
  },
  {
   "cell_type": "code",
   "execution_count": 7,
   "id": "3fdde7b4-5ada-4105-abc9-0153173c1da5",
   "metadata": {},
   "outputs": [
    {
     "data": {
      "text/plain": [
       "True"
      ]
     },
     "execution_count": 7,
     "metadata": {},
     "output_type": "execute_result"
    }
   ],
   "source": [
    "\"a\" != \"A\""
   ]
  },
  {
   "cell_type": "code",
   "execution_count": 10,
   "id": "7c9c94b9-8b07-460c-a7d1-48f8bee2f555",
   "metadata": {},
   "outputs": [
    {
     "data": {
      "text/plain": [
       "False"
      ]
     },
     "execution_count": 10,
     "metadata": {},
     "output_type": "execute_result"
    }
   ],
   "source": [
    "4 <1"
   ]
  },
  {
   "cell_type": "code",
   "execution_count": 14,
   "id": "dd244ec2-9b26-4af7-8ffb-371e78d39c4a",
   "metadata": {},
   "outputs": [
    {
     "data": {
      "text/plain": [
       "False"
      ]
     },
     "execution_count": 14,
     "metadata": {},
     "output_type": "execute_result"
    }
   ],
   "source": [
    "(2>1) and (9<3)"
   ]
  },
  {
   "cell_type": "code",
   "execution_count": 16,
   "id": "f5e257eb-7d9c-48a9-bcff-b82078925847",
   "metadata": {},
   "outputs": [
    {
     "data": {
      "text/plain": [
       "False"
      ]
     },
     "execution_count": 16,
     "metadata": {},
     "output_type": "execute_result"
    }
   ],
   "source": [
    "(2>4) or (9<3)"
   ]
  },
  {
   "cell_type": "code",
   "execution_count": 18,
   "id": "08ec178c-3c29-4ce8-b031-cdb6df8945f5",
   "metadata": {},
   "outputs": [
    {
     "data": {
      "text/plain": [
       "True"
      ]
     },
     "execution_count": 18,
     "metadata": {},
     "output_type": "execute_result"
    }
   ],
   "source": [
    "\"B\" > \"A\""
   ]
  },
  {
   "cell_type": "code",
   "execution_count": 22,
   "id": "7f96ceb9-347a-4baa-8e97-66ff87723914",
   "metadata": {},
   "outputs": [
    {
     "data": {
      "text/plain": [
       "True"
      ]
     },
     "execution_count": 22,
     "metadata": {},
     "output_type": "execute_result"
    }
   ],
   "source": [
    "\"Ca\" > \"Ba\""
   ]
  },
  {
   "cell_type": "code",
   "execution_count": 26,
   "id": "80b5cd12-33a6-4a9c-bc76-9e12b5ddc81c",
   "metadata": {},
   "outputs": [
    {
     "data": {
      "text/plain": [
       "False"
      ]
     },
     "execution_count": 26,
     "metadata": {},
     "output_type": "execute_result"
    }
   ],
   "source": [
    "not(\"Ca\" > \"Ba\")"
   ]
  },
  {
   "cell_type": "markdown",
   "id": "b1a9a0c7-835e-4c0d-91f6-eacf4e1d30ad",
   "metadata": {},
   "source": [
    "# membership operator"
   ]
  },
  {
   "cell_type": "code",
   "execution_count": 32,
   "id": "b21ca080-7ddf-47fc-88c0-a18ab3bcb6f4",
   "metadata": {},
   "outputs": [
    {
     "data": {
      "text/plain": [
       "False"
      ]
     },
     "execution_count": 32,
     "metadata": {},
     "output_type": "execute_result"
    }
   ],
   "source": [
    "\"ice\" in \"Ice Age\""
   ]
  },
  {
   "cell_type": "code",
   "execution_count": 34,
   "id": "6e72078b-d9ac-417f-8cb6-436c4a6c299b",
   "metadata": {},
   "outputs": [
    {
     "data": {
      "text/plain": [
       "True"
      ]
     },
     "execution_count": 34,
     "metadata": {},
     "output_type": "execute_result"
    }
   ],
   "source": [
    "\"Ice\" in \"Ice Age\""
   ]
  },
  {
   "cell_type": "code",
   "execution_count": 38,
   "id": "34aef52d-47a0-4dc1-b039-f1e002c7ec74",
   "metadata": {},
   "outputs": [
    {
     "data": {
      "text/plain": [
       "False"
      ]
     },
     "execution_count": 38,
     "metadata": {},
     "output_type": "execute_result"
    }
   ],
   "source": [
    "scoops = [1,2,3,4,5]\n",
    "\n",
    "wanted_scoop = 8\n",
    "\n",
    "wanted_scoop in scoops"
   ]
  },
  {
   "cell_type": "code",
   "execution_count": null,
   "id": "717b4068-a518-4fa0-92e1-75acf50c72f4",
   "metadata": {},
   "outputs": [],
   "source": []
  },
  {
   "cell_type": "code",
   "execution_count": null,
   "id": "f9a77649-10d8-4cc3-972a-b77d5d75a72e",
   "metadata": {},
   "outputs": [],
   "source": []
  },
  {
   "cell_type": "markdown",
   "id": "5fb93680-7d15-4bec-ae50-8c463aa58d3c",
   "metadata": {},
   "source": [
    "# If - Elif - Else Statments"
   ]
  },
  {
   "cell_type": "code",
   "execution_count": 46,
   "id": "8a981592-245f-43a5-bde6-7ecd62853632",
   "metadata": {},
   "outputs": [
    {
     "name": "stdout",
     "output_type": "stream",
     "text": [
      "Sharp!\n"
     ]
    }
   ],
   "source": [
    "if 5 < 10:\n",
    "    print(\"valid\")"
   ]
  },
  {
   "cell_type": "code",
   "execution_count": 50,
   "id": "5055429f-acb0-4c2b-91ec-38690924b230",
   "metadata": {},
   "outputs": [
    {
     "name": "stdout",
     "output_type": "stream",
     "text": [
      "Invalid\n"
     ]
    }
   ],
   "source": [
    "if 50 < 10:\n",
    "    print(\"Valid\")\n",
    "else:\n",
    "    print(\"Invalid\")"
   ]
  },
  {
   "cell_type": "code",
   "execution_count": 52,
   "id": "badb7370-9d57-485b-8951-e32ba89f1952",
   "metadata": {},
   "outputs": [
    {
     "name": "stdout",
     "output_type": "stream",
     "text": [
      "Invalid\n"
     ]
    }
   ],
   "source": [
    "if 5 < 1:\n",
    "    print(\"Valid\")\n",
    "elif 5 < 2:\n",
    "    print(\"Elif Valid\")\n",
    "else:\n",
    "    print(\"Invalid\")"
   ]
  },
  {
   "cell_type": "code",
   "execution_count": 60,
   "id": "14e0b3b2-e57c-4cd1-905c-5f0eddad51bf",
   "metadata": {},
   "outputs": [
    {
     "name": "stdout",
     "output_type": "stream",
     "text": [
      "Elif2 Valid\n"
     ]
    }
   ],
   "source": [
    "if 5 < 1:\n",
    "    print(\"Valid\")\n",
    "elif 5 < 2 :\n",
    "    print(\"Elif1 Valid\")\n",
    "elif 5 < 6:\n",
    "    print(\"Elif2 Valid\")\n",
    "else:\n",
    "    print(\"Invalid\")"
   ]
  },
  {
   "cell_type": "code",
   "execution_count": 64,
   "id": "b1d5d839-3620-46a3-915a-467e1ebc375b",
   "metadata": {},
   "outputs": [
    {
     "name": "stdout",
     "output_type": "stream",
     "text": [
      "Elif1 Valid\n"
     ]
    }
   ],
   "source": [
    "if 5 < 1:\n",
    "    print(\"Valid\")\n",
    "elif (5 < 2) or (2 > 1) :\n",
    "    print(\"Elif1 Valid\")\n",
    "elif 5 < 6:\n",
    "    print(\"Elif2 Valid\")\n",
    "else:\n",
    "    print(\"Invalid\")"
   ]
  },
  {
   "cell_type": "code",
   "execution_count": 66,
   "id": "1bb52c29-2f0f-45ae-b39d-6d7c5bce52b4",
   "metadata": {},
   "outputs": [
    {
     "data": {
      "text/plain": [
       "'Invalid'"
      ]
     },
     "execution_count": 66,
     "metadata": {},
     "output_type": "execute_result"
    }
   ],
   "source": [
    "print(\"Valid\") if 2 > 4 else (\"Invalid\")"
   ]
  },
  {
   "cell_type": "code",
   "execution_count": 72,
   "id": "4fbf17c2-98c2-4c6d-beab-b1080f114e6b",
   "metadata": {},
   "outputs": [
    {
     "name": "stdout",
     "output_type": "stream",
     "text": [
      "Valid\n",
      "This nested if statement worked\n"
     ]
    }
   ],
   "source": [
    "if 5 < 11:\n",
    "    print(\"Valid\")\n",
    "    if 1 < 5 :\n",
    "        print(\"This nested if statement worked\")\n",
    "elif 5 < 2 :\n",
    "    print(\"Elif1 Valid\")\n",
    "elif 5 < 6:\n",
    "    print(\"Elif2 Valid\")\n",
    "else:\n",
    "    print(\"Invalid\")"
   ]
  },
  {
   "cell_type": "code",
   "execution_count": null,
   "id": "f30ac905-64a2-49bb-9725-43334863cd32",
   "metadata": {},
   "outputs": [],
   "source": []
  },
  {
   "cell_type": "code",
   "execution_count": null,
   "id": "f15614b9-e816-484e-bbad-cfa62c7d6c18",
   "metadata": {},
   "outputs": [],
   "source": []
  },
  {
   "cell_type": "markdown",
   "id": "f6685fe9-727a-4bb1-b04f-2c9d70001d02",
   "metadata": {},
   "source": [
    "# For loops"
   ]
  },
  {
   "cell_type": "code",
   "execution_count": 77,
   "id": "1af4b014-7f4c-43f0-b7d8-39866e4daac2",
   "metadata": {},
   "outputs": [],
   "source": [
    "integers = [1,2,3,4,5]"
   ]
  },
  {
   "cell_type": "code",
   "execution_count": 81,
   "id": "77ab5ae4-4430-47a4-911e-c69eab9bc1f5",
   "metadata": {},
   "outputs": [
    {
     "name": "stdout",
     "output_type": "stream",
     "text": [
      "1\n",
      "2\n",
      "3\n",
      "4\n",
      "5\n"
     ]
    }
   ],
   "source": [
    "for numbers in integers:\n",
    "    print(numbers)"
   ]
  },
  {
   "cell_type": "code",
   "execution_count": 85,
   "id": "16a390a1-3da2-4b05-9024-a03b6ef8b51e",
   "metadata": {},
   "outputs": [
    {
     "name": "stdout",
     "output_type": "stream",
     "text": [
      "a\n",
      "aa\n",
      "aaa\n",
      "aaaa\n",
      "aaaaa\n"
     ]
    }
   ],
   "source": [
    "for numbers in integers:\n",
    "    print(\"a\" * numbers)"
   ]
  },
  {
   "cell_type": "code",
   "execution_count": 87,
   "id": "f55b9e60-953a-4f09-9454-066652ddccf7",
   "metadata": {},
   "outputs": [
    {
     "name": "stdout",
     "output_type": "stream",
     "text": [
      "Misha\n",
      "5\n",
      "['Vanilla', 'Chocolate']\n"
     ]
    }
   ],
   "source": [
    "ice_cream_dict ={ \"name\": \"Misha\", \"weekly intake\": 5, \"favorite ice creams\": [\"Vanilla\",\"Chocolate\"]}\n",
    "\n",
    "for cream in ice_cream_dict.values():\n",
    "    print(cream)"
   ]
  },
  {
   "cell_type": "code",
   "execution_count": 91,
   "id": "ca7978cd-f482-4c50-bfd9-313d62a0933a",
   "metadata": {},
   "outputs": [
    {
     "name": "stdout",
     "output_type": "stream",
     "text": [
      "name ->  Misha\n",
      "weekly intake ->  5\n",
      "favorite ice creams ->  ['Vanilla', 'Chocolate']\n"
     ]
    }
   ],
   "source": [
    "for key, value in ice_cream_dict.items():\n",
    "    print(key, \"-> \",value)"
   ]
  },
  {
   "cell_type": "code",
   "execution_count": null,
   "id": "e2a4e912-a5bc-49de-819f-d91c9a13eab7",
   "metadata": {},
   "outputs": [],
   "source": []
  },
  {
   "cell_type": "markdown",
   "id": "1c04cbbf-d884-4a9c-9293-c76c0b331e90",
   "metadata": {},
   "source": [
    "# Nested For Loops"
   ]
  },
  {
   "cell_type": "code",
   "execution_count": 101,
   "id": "ca53563e-8511-4879-9b71-de217ab65bfc",
   "metadata": {},
   "outputs": [],
   "source": [
    "flavors = [\"Vanilla\", \"Chocolate\",\"Cookie Dough\"]\n",
    "toppings = [\"Hot Fudge\", \"Oreos\", \"Marshmallows\"]        "
   ]
  },
  {
   "cell_type": "code",
   "execution_count": 103,
   "id": "4132d322-72bd-4ed7-84e6-794a65feffc6",
   "metadata": {},
   "outputs": [
    {
     "name": "stdout",
     "output_type": "stream",
     "text": [
      "Vanilla  topped with  Hot Fudge\n",
      "Vanilla  topped with  Oreos\n",
      "Vanilla  topped with  Marshmallows\n",
      "Chocolate  topped with  Hot Fudge\n",
      "Chocolate  topped with  Oreos\n",
      "Chocolate  topped with  Marshmallows\n",
      "Cookie Dough  topped with  Hot Fudge\n",
      "Cookie Dough  topped with  Oreos\n",
      "Cookie Dough  topped with  Marshmallows\n"
     ]
    }
   ],
   "source": [
    "for one in flavors:\n",
    "    for two in toppings:\n",
    "        print(one, \" topped with \", two)\n",
    "        "
   ]
  },
  {
   "cell_type": "code",
   "execution_count": null,
   "id": "ad95b296-80ac-4b9b-896c-2015cc434d68",
   "metadata": {},
   "outputs": [],
   "source": []
  },
  {
   "cell_type": "code",
   "execution_count": null,
   "id": "bad70eac-5d8a-493e-b2bd-1146ee3c17b7",
   "metadata": {},
   "outputs": [],
   "source": []
  },
  {
   "cell_type": "markdown",
   "id": "8304cbbe-2a3f-4062-8007-32cabd5639af",
   "metadata": {},
   "source": [
    "# While Loops"
   ]
  },
  {
   "cell_type": "code",
   "execution_count": 113,
   "id": "57d94a5d-2aaf-4006-bef1-71510cefa55b",
   "metadata": {},
   "outputs": [
    {
     "name": "stdout",
     "output_type": "stream",
     "text": [
      "0\n",
      "1\n",
      "2\n",
      "3\n"
     ]
    }
   ],
   "source": [
    "number = 0 \n",
    "\n",
    "while number < 5:\n",
    "    print(number)\n",
    "    if number == 3:\n",
    "        break\n",
    "    number = number + 1"
   ]
  },
  {
   "cell_type": "code",
   "execution_count": 117,
   "id": "3dc2822f-8550-4a8b-985f-295656331950",
   "metadata": {},
   "outputs": [
    {
     "name": "stdout",
     "output_type": "stream",
     "text": [
      "0\n",
      "1\n",
      "2\n",
      "3\n",
      "4\n",
      "No longer < 5\n"
     ]
    }
   ],
   "source": [
    "number = 0 \n",
    "\n",
    "while number < 5:\n",
    "    print(number)\n",
    "    if number == 6:\n",
    "        break\n",
    "    number = number + 1\n",
    "else:\n",
    "    print(\"No longer < 5\")"
   ]
  },
  {
   "cell_type": "code",
   "execution_count": null,
   "id": "8c3000f0-b59e-46f0-88ea-9084194b8cc9",
   "metadata": {},
   "outputs": [],
   "source": []
  },
  {
   "cell_type": "markdown",
   "id": "6cd3440c-a281-43a5-b4c2-ebdf7e131a26",
   "metadata": {},
   "source": [
    "# Functions"
   ]
  },
  {
   "cell_type": "code",
   "execution_count": 125,
   "id": "e4c861a5-f537-4de0-a6b4-3e8cc01af6d1",
   "metadata": {},
   "outputs": [],
   "source": [
    "def func():\n",
    "    print(\"Hey There\")\n",
    "\n"
   ]
  },
  {
   "cell_type": "code",
   "execution_count": 127,
   "id": "8463c776-0413-4038-8fd3-1315d06e743c",
   "metadata": {},
   "outputs": [
    {
     "name": "stdout",
     "output_type": "stream",
     "text": [
      "Hey There\n"
     ]
    }
   ],
   "source": [
    "func()"
   ]
  },
  {
   "cell_type": "code",
   "execution_count": 131,
   "id": "91531b8d-1b1f-4df4-81f7-2766e8a34519",
   "metadata": {},
   "outputs": [],
   "source": [
    "def number_squared(number):\n",
    "    print(number**2)"
   ]
  },
  {
   "cell_type": "code",
   "execution_count": 133,
   "id": "3031b3e8-5989-46d1-b63b-dc61827a35eb",
   "metadata": {},
   "outputs": [
    {
     "name": "stdout",
     "output_type": "stream",
     "text": [
      "9\n"
     ]
    }
   ],
   "source": [
    "number_squared(3)"
   ]
  },
  {
   "cell_type": "code",
   "execution_count": 139,
   "id": "4a0dc6b5-a14a-4a98-9bfc-b499d7d7c79b",
   "metadata": {},
   "outputs": [],
   "source": [
    "def number_squared_cust(number,power):\n",
    "    print(number**power)"
   ]
  },
  {
   "cell_type": "code",
   "execution_count": 141,
   "id": "0f979c29-c870-40ce-9b70-9e53100b4dba",
   "metadata": {},
   "outputs": [
    {
     "name": "stdout",
     "output_type": "stream",
     "text": [
      "37252902984619140625\n"
     ]
    }
   ],
   "source": [
    "number_squared_cust(5,28)"
   ]
  },
  {
   "cell_type": "markdown",
   "id": "e33a9ad7-6eae-4cd4-8ea3-8f36e2143b36",
   "metadata": {},
   "source": [
    "# Arbitrary Arguement"
   ]
  },
  {
   "cell_type": "code",
   "execution_count": 154,
   "id": "a093188c-df13-4d0a-9194-d4e4e82285c8",
   "metadata": {},
   "outputs": [],
   "source": [
    "args_tuple= (2,3,4,5,6)\n",
    "\n",
    "def number_arg(*number):\n",
    "    print(number[0]*number[1])\n",
    "    "
   ]
  },
  {
   "cell_type": "code",
   "execution_count": 158,
   "id": "ebf37402-149a-42e4-8de4-49e9ff9a1887",
   "metadata": {},
   "outputs": [
    {
     "name": "stdout",
     "output_type": "stream",
     "text": [
      "6\n"
     ]
    }
   ],
   "source": [
    "number_arg(*args_tuple)"
   ]
  },
  {
   "cell_type": "code",
   "execution_count": null,
   "id": "338536df-1952-492f-8957-392266a2278b",
   "metadata": {},
   "outputs": [],
   "source": []
  },
  {
   "cell_type": "markdown",
   "id": "4c06eb2f-3479-476b-8619-7a62f391c504",
   "metadata": {},
   "source": [
    "# keyword Arguement"
   ]
  },
  {
   "cell_type": "code",
   "execution_count": 162,
   "id": "30f0b2f9-e179-47e8-a958-22303f422ac3",
   "metadata": {},
   "outputs": [],
   "source": [
    "def number_squared_cust(number,power):\n",
    "    print(number**power)"
   ]
  },
  {
   "cell_type": "code",
   "execution_count": 166,
   "id": "4fe1a6c5-421a-4b8b-8f88-75f63eda444c",
   "metadata": {},
   "outputs": [
    {
     "name": "stdout",
     "output_type": "stream",
     "text": [
      "32\n"
     ]
    }
   ],
   "source": [
    "number_squared_cust(power = 5,number = 2)"
   ]
  },
  {
   "cell_type": "markdown",
   "id": "6a6dd241-2625-4da6-929e-e58e433ea6c7",
   "metadata": {},
   "source": [
    "# Arbitrary keyword Arguement"
   ]
  },
  {
   "cell_type": "raw",
   "id": "a0efd131-c0f0-404b-b8f1-41a5a0a29f00",
   "metadata": {},
   "source": [
    "The arguments are collected into a dictionary, where the keyword names become the keys and the corresponding values become the values.\n",
    "\n"
   ]
  },
  {
   "cell_type": "code",
   "execution_count": 186,
   "id": "a65e456c-e16a-483a-8aeb-2e9ebca95454",
   "metadata": {},
   "outputs": [],
   "source": [
    "def number_kwarg(**number):\n",
    "    print(\"My number is: \" + number[\"integer1\"] + \" My other number is: \" + number[\"integer2\"] )    "
   ]
  },
  {
   "cell_type": "code",
   "execution_count": 188,
   "id": "4c1986ec-9681-434f-842d-2ae73a8565df",
   "metadata": {},
   "outputs": [
    {
     "name": "stdout",
     "output_type": "stream",
     "text": [
      "My number is: 123 My other number is: 456\n"
     ]
    }
   ],
   "source": [
    "number_kwarg(integer1=\"123\", integer2=\"456\")"
   ]
  },
  {
   "cell_type": "code",
   "execution_count": null,
   "id": "a17d04b3-e0ce-49ad-8143-76b8d2b8a5bb",
   "metadata": {},
   "outputs": [],
   "source": []
  },
  {
   "cell_type": "code",
   "execution_count": 191,
   "id": "ceecbfee-0fc2-4b81-aecc-ce417ad76d4a",
   "metadata": {},
   "outputs": [],
   "source": [
    "def my_function(**kwargs):\n",
    "    for key, value in kwargs.items():\n",
    "        print(f\"{key}: {value}\")"
   ]
  },
  {
   "cell_type": "code",
   "execution_count": 193,
   "id": "0e99f784-0d44-488b-b4d1-24f0974ebdc3",
   "metadata": {},
   "outputs": [
    {
     "name": "stdout",
     "output_type": "stream",
     "text": [
      "name: Alice\n",
      "age: 30\n",
      "city: New York\n"
     ]
    }
   ],
   "source": [
    "my_function(name=\"Alice\", age=30, city=\"New York\")"
   ]
  },
  {
   "cell_type": "markdown",
   "id": "0321126d-cf19-435d-b790-b499ffcbb210",
   "metadata": {},
   "source": [
    "### useful for creating dynamic functions"
   ]
  },
  {
   "cell_type": "code",
   "execution_count": 199,
   "id": "e16572d7-6fb3-4e39-b66d-dbdb50023416",
   "metadata": {},
   "outputs": [],
   "source": [
    "def create_function(**kwargs):\n",
    "    def inner_function():\n",
    "        for key, value in kwargs.items():\n",
    "            print(f\"{key}: {value}\")\n",
    "    return inner_function\n"
   ]
  },
  {
   "cell_type": "code",
   "execution_count": 201,
   "id": "f7b291b7-a749-4262-8af8-e564cdf76910",
   "metadata": {},
   "outputs": [
    {
     "name": "stdout",
     "output_type": "stream",
     "text": [
      "name: Alice\n",
      "age: 30\n",
      "city: New York\n"
     ]
    }
   ],
   "source": [
    "# Create a function that prints information about a person\n",
    "person_info = create_function(name=\"Alice\", age=30, city=\"New York\")\n",
    "\n",
    "# Call the created function\n",
    "person_info()"
   ]
  },
  {
   "cell_type": "code",
   "execution_count": null,
   "id": "2841c4b1-f9d6-409c-b4a5-b449aab5aa21",
   "metadata": {},
   "outputs": [],
   "source": []
  },
  {
   "cell_type": "code",
   "execution_count": null,
   "id": "b093c17d-7ab6-4e8b-b613-12bd5247a906",
   "metadata": {},
   "outputs": [],
   "source": []
  },
  {
   "cell_type": "markdown",
   "id": "ea254ab9-764b-4c00-b8e8-4b1f645d3351",
   "metadata": {},
   "source": [
    "# Converting data types\n"
   ]
  },
  {
   "cell_type": "code",
   "execution_count": 210,
   "id": "b8208088-d9fc-48e2-bb1a-e31ca7df0b66",
   "metadata": {},
   "outputs": [
    {
     "data": {
      "text/plain": [
       "int"
      ]
     },
     "execution_count": 210,
     "metadata": {},
     "output_type": "execute_result"
    }
   ],
   "source": [
    "num_int = 7\n",
    "\n",
    "type(num_int)"
   ]
  },
  {
   "cell_type": "code",
   "execution_count": 212,
   "id": "a55c3c80-4a7d-41d3-9ecb-0bfc2ed4bc24",
   "metadata": {},
   "outputs": [
    {
     "data": {
      "text/plain": [
       "str"
      ]
     },
     "execution_count": 212,
     "metadata": {},
     "output_type": "execute_result"
    }
   ],
   "source": [
    "num_str = \"7\"\n",
    "\n",
    "type(num_str)"
   ]
  },
  {
   "cell_type": "code",
   "execution_count": 214,
   "id": "399bc87e-6a45-42e4-b761-851a70859345",
   "metadata": {},
   "outputs": [
    {
     "ename": "TypeError",
     "evalue": "unsupported operand type(s) for +: 'int' and 'str'",
     "output_type": "error",
     "traceback": [
      "\u001b[1;31m---------------------------------------------------------------------------\u001b[0m",
      "\u001b[1;31mTypeError\u001b[0m                                 Traceback (most recent call last)",
      "Cell \u001b[1;32mIn[214], line 1\u001b[0m\n\u001b[1;32m----> 1\u001b[0m num_sum \u001b[38;5;241m=\u001b[39m num_int \u001b[38;5;241m+\u001b[39m num_str\n",
      "\u001b[1;31mTypeError\u001b[0m: unsupported operand type(s) for +: 'int' and 'str'"
     ]
    }
   ],
   "source": [
    "num_sum = num_int + num_str"
   ]
  },
  {
   "cell_type": "code",
   "execution_count": 216,
   "id": "b33c57a5-9419-43b8-8fbb-2573004581f7",
   "metadata": {},
   "outputs": [
    {
     "data": {
      "text/plain": [
       "int"
      ]
     },
     "execution_count": 216,
     "metadata": {},
     "output_type": "execute_result"
    }
   ],
   "source": [
    "num_str_conv = int(num_str)\n",
    "\n",
    "type(num_str_conv)"
   ]
  },
  {
   "cell_type": "code",
   "execution_count": 220,
   "id": "c9c38e15-a512-4653-84ee-d2f7ce4e8f7d",
   "metadata": {},
   "outputs": [
    {
     "name": "stdout",
     "output_type": "stream",
     "text": [
      "14\n"
     ]
    }
   ],
   "source": [
    "num_sum = num_int + num_str_conv\n",
    "\n",
    "print(num_sum)"
   ]
  },
  {
   "cell_type": "code",
   "execution_count": null,
   "id": "df6011ff-32ad-4581-8ce0-166c6df05720",
   "metadata": {},
   "outputs": [],
   "source": []
  },
  {
   "cell_type": "code",
   "execution_count": null,
   "id": "a31ce265-7676-4f9d-abf6-40da18f1355a",
   "metadata": {},
   "outputs": [],
   "source": []
  },
  {
   "cell_type": "code",
   "execution_count": 227,
   "id": "590fd951-761a-4854-8118-429d78e94fa2",
   "metadata": {},
   "outputs": [
    {
     "data": {
      "text/plain": [
       "list"
      ]
     },
     "execution_count": 227,
     "metadata": {},
     "output_type": "execute_result"
    }
   ],
   "source": [
    "list_type = [1,2,3]\n",
    "\n",
    "type(list_type)"
   ]
  },
  {
   "cell_type": "code",
   "execution_count": 229,
   "id": "f54591b8-8244-426f-85b9-db7fa49f3da1",
   "metadata": {},
   "outputs": [
    {
     "data": {
      "text/plain": [
       "tuple"
      ]
     },
     "execution_count": 229,
     "metadata": {},
     "output_type": "execute_result"
    }
   ],
   "source": [
    "type(tuple(list_type))"
   ]
  },
  {
   "cell_type": "code",
   "execution_count": 237,
   "id": "1691d449-66c9-46cc-99c7-dbb63df23ba1",
   "metadata": {},
   "outputs": [],
   "source": [
    "list_type1 = [1,2,3,4,1,2,3]"
   ]
  },
  {
   "cell_type": "code",
   "execution_count": 239,
   "id": "bacb7994-4a7b-4ed0-8086-64fe84123a21",
   "metadata": {},
   "outputs": [
    {
     "data": {
      "text/plain": [
       "{1, 2, 3, 4}"
      ]
     },
     "execution_count": 239,
     "metadata": {},
     "output_type": "execute_result"
    }
   ],
   "source": [
    "set(list_type1)"
   ]
  },
  {
   "cell_type": "code",
   "execution_count": 241,
   "id": "4cedde3a-94e5-42bd-b8f2-693f53e3f0a5",
   "metadata": {},
   "outputs": [
    {
     "data": {
      "text/plain": [
       "set"
      ]
     },
     "execution_count": 241,
     "metadata": {},
     "output_type": "execute_result"
    }
   ],
   "source": [
    "type(set(list_type1))"
   ]
  },
  {
   "cell_type": "code",
   "execution_count": 245,
   "id": "bac000f3-aef6-4087-ac6a-37c235d108a0",
   "metadata": {},
   "outputs": [
    {
     "data": {
      "text/plain": [
       "dict"
      ]
     },
     "execution_count": 245,
     "metadata": {},
     "output_type": "execute_result"
    }
   ],
   "source": [
    "dict_type = { \"name\":\"Misha\", \"age\": 26, \"hair\": \"Black\"}\n",
    "\n",
    "9type(dict_type)"
   ]
  },
  {
   "cell_type": "code",
   "execution_count": 247,
   "id": "31ae5d29-e0e8-4bda-bd0e-e647b98bcf84",
   "metadata": {},
   "outputs": [
    {
     "data": {
      "text/plain": [
       "dict_items([('name', 'Misha'), ('age', 26), ('hair', 'Black')])"
      ]
     },
     "execution_count": 247,
     "metadata": {},
     "output_type": "execute_result"
    }
   ],
   "source": [
    "dict_type.items()"
   ]
  },
  {
   "cell_type": "code",
   "execution_count": 249,
   "id": "fdeb761d-9999-4aa5-b500-b7588b8e2792",
   "metadata": {},
   "outputs": [
    {
     "data": {
      "text/plain": [
       "dict_values(['Misha', 26, 'Black'])"
      ]
     },
     "execution_count": 249,
     "metadata": {},
     "output_type": "execute_result"
    }
   ],
   "source": [
    "dict_type.values()"
   ]
  },
  {
   "cell_type": "code",
   "execution_count": 251,
   "id": "6a0c6e45-5fa7-41da-8004-78273effba5d",
   "metadata": {},
   "outputs": [
    {
     "data": {
      "text/plain": [
       "dict_keys(['name', 'age', 'hair'])"
      ]
     },
     "execution_count": 251,
     "metadata": {},
     "output_type": "execute_result"
    }
   ],
   "source": [
    "dict_type.keys()"
   ]
  },
  {
   "cell_type": "code",
   "execution_count": 257,
   "id": "873ec7ee-b427-4159-980b-6513406723e9",
   "metadata": {},
   "outputs": [
    {
     "data": {
      "text/plain": [
       "['Misha', 26, 'Black']"
      ]
     },
     "execution_count": 257,
     "metadata": {},
     "output_type": "execute_result"
    }
   ],
   "source": [
    "list(dict_type.values())"
   ]
  },
  {
   "cell_type": "code",
   "execution_count": 259,
   "id": "57c90be2-02bf-4ec6-9dd6-589ce50bbe9b",
   "metadata": {},
   "outputs": [
    {
     "data": {
      "text/plain": [
       "list"
      ]
     },
     "execution_count": 259,
     "metadata": {},
     "output_type": "execute_result"
    }
   ],
   "source": [
    "type(list(dict_type.values()))"
   ]
  },
  {
   "cell_type": "code",
   "execution_count": 261,
   "id": "360dc393-0eed-4b7d-8fab-5b876cb8ec95",
   "metadata": {},
   "outputs": [
    {
     "data": {
      "text/plain": [
       "['name', 'age', 'hair']"
      ]
     },
     "execution_count": 261,
     "metadata": {},
     "output_type": "execute_result"
    }
   ],
   "source": [
    "list(dict_type.keys())"
   ]
  },
  {
   "cell_type": "code",
   "execution_count": 265,
   "id": "9b312d1f-e559-4d5d-b418-d3566754327f",
   "metadata": {},
   "outputs": [
    {
     "data": {
      "text/plain": [
       "list"
      ]
     },
     "execution_count": 265,
     "metadata": {},
     "output_type": "execute_result"
    }
   ],
   "source": [
    "type(list(dict_type.keys()))"
   ]
  },
  {
   "cell_type": "code",
   "execution_count": 269,
   "id": "88152d8d-6e4c-4611-8d87-0678dceb1bdb",
   "metadata": {},
   "outputs": [
    {
     "data": {
      "text/plain": [
       "['I', ' ', 'l', 'o', 'v', 'e', ' ', 'f', 'o', 'o', 'd']"
      ]
     },
     "execution_count": 269,
     "metadata": {},
     "output_type": "execute_result"
    }
   ],
   "source": [
    "long_str =  \"I love food\"\n",
    "\n",
    "list(long_str)"
   ]
  },
  {
   "cell_type": "code",
   "execution_count": 271,
   "id": "ecfd0107-0900-40e6-a3a1-43ab5238b044",
   "metadata": {},
   "outputs": [
    {
     "data": {
      "text/plain": [
       "{' ', 'I', 'd', 'e', 'f', 'l', 'o', 'v'}"
      ]
     },
     "execution_count": 271,
     "metadata": {},
     "output_type": "execute_result"
    }
   ],
   "source": [
    "set(long_str)"
   ]
  },
  {
   "cell_type": "code",
   "execution_count": 273,
   "id": "ff620115-4d9f-4b87-b992-5b556ec4b8e3",
   "metadata": {},
   "outputs": [
    {
     "data": {
      "text/plain": [
       "('I', ' ', 'l', 'o', 'v', 'e', ' ', 'f', 'o', 'o', 'd')"
      ]
     },
     "execution_count": 273,
     "metadata": {},
     "output_type": "execute_result"
    }
   ],
   "source": [
    "tuple(long_str)"
   ]
  },
  {
   "cell_type": "code",
   "execution_count": null,
   "id": "de7a940a-dea9-4e88-81f9-7201b2395197",
   "metadata": {},
   "outputs": [],
   "source": []
  }
 ],
 "metadata": {
  "kernelspec": {
   "display_name": "Python 3 (ipykernel)",
   "language": "python",
   "name": "python3"
  },
  "language_info": {
   "codemirror_mode": {
    "name": "ipython",
    "version": 3
   },
   "file_extension": ".py",
   "mimetype": "text/x-python",
   "name": "python",
   "nbconvert_exporter": "python",
   "pygments_lexer": "ipython3",
   "version": "3.12.7"
  }
 },
 "nbformat": 4,
 "nbformat_minor": 5
}
