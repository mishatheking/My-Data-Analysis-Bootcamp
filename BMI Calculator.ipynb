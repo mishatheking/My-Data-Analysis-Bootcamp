{
 "cells": [
  {
   "cell_type": "markdown",
   "id": "b02e569e-ed4c-4104-a1a8-e053f3eb33fa",
   "metadata": {},
   "source": [
    "# BMI Calculator"
   ]
  },
  {
   "cell_type": "raw",
   "id": "7ebd4c0c-25ec-4b31-b5c1-9c5fdf045e0b",
   "metadata": {},
   "source": [
    "Body Mass Index (BMI), is a simple calculation that uses your height and weight to estimate your body fat percentage and evaluate your overall health risk. Although it is not a perfect measure and does not take into account factors like muscle mass, it is a widely used tool for determining whether you are at a healthy weight.\n",
    "\n",
    "Tracking your BMI can help you:\n",
    "- Identify potential health risks, such as heart disease and diabetes.\n",
    "- Set and monitor weight goals.\n",
    "- Encourage healthy lifestyle choices."
   ]
  },
  {
   "cell_type": "code",
   "execution_count": 55,
   "id": "3833da06-ac15-45d0-ac9c-435408881cb4",
   "metadata": {},
   "outputs": [
    {
     "name": "stdin",
     "output_type": "stream",
     "text": [
      "What's your name:  Mike \n"
     ]
    },
    {
     "name": "stdout",
     "output_type": "stream",
     "text": [
      "\n"
     ]
    },
    {
     "name": "stdin",
     "output_type": "stream",
     "text": [
      "Nice to meet you Mike , what's your weight in pounds:  289\n",
      "Kindly enter your heigh in inches:  78\n"
     ]
    },
    {
     "name": "stdout",
     "output_type": "stream",
     "text": [
      "\n",
      "At 33.39365548980933 BMI; Mike , you are obese\n"
     ]
    }
   ],
   "source": [
    "name = input(\"What's your name: \")\n",
    "print()\n",
    "\n",
    "weight = int(input(\"Nice to meet you \" + name+ \", what's your weight in pounds: \"))\n",
    "\n",
    "height = int(input(\"Kindly enter your heigh in inches: \"))\n",
    "\n",
    "#The BMI is calculated by dividing an adult's weight in kilograms by their height in metres squared.\n",
    "BMI = (weight *703)/ (height**2)\n",
    "print()\n",
    "print(\"At\", BMI, \"BMI\", end= \"; \")\n",
    "\n",
    "\n",
    "if BMI>0:\n",
    "    if(BMI<18.5):\n",
    "        print(name + \", you are underweight\")\n",
    "    elif(BMI< 24.9):\n",
    "        print(name + \", you are normal weight\")\n",
    "    elif(BMI<29.9):\n",
    "        print(name + \", you are overweight\")\n",
    "    elif(BMI<34.9):\n",
    "        print(name + \", you are obese\")\n",
    "    elif(BMI<39.9):\n",
    "        print(name + \", you are severely obese\")\n",
    "    else:\n",
    "        print(name + \", you are morbidly obese\")\n",
    "else:\n",
    "    print(name + \", please enter a valid response\")\n",
    "        "
   ]
  },
  {
   "cell_type": "code",
   "execution_count": null,
   "id": "42b883b7-94bc-4e4e-ad2e-0231d97aca98",
   "metadata": {},
   "outputs": [],
   "source": []
  }
 ],
 "metadata": {
  "kernelspec": {
   "display_name": "Python 3 (ipykernel)",
   "language": "python",
   "name": "python3"
  },
  "language_info": {
   "codemirror_mode": {
    "name": "ipython",
    "version": 3
   },
   "file_extension": ".py",
   "mimetype": "text/x-python",
   "name": "python",
   "nbconvert_exporter": "python",
   "pygments_lexer": "ipython3",
   "version": "3.12.7"
  }
 },
 "nbformat": 4,
 "nbformat_minor": 5
}
